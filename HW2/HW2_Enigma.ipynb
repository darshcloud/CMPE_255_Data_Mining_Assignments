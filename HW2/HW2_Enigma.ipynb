{
  "cells": [
    {
      "cell_type": "markdown",
      "metadata": {
        "id": "_EI4Wxp64R_g"
      },
      "source": [
        "`CMPE-255. Fall 2023`\n",
        "\n",
        "Submitted By : Darshini Venkatesha Murthy Nag  \n",
        "SJSU ID : 016668951  \n",
        "\n",
        "# Breaking Enigma\n",
        "The Enigma machine was used by the Germans in WWII to encrypt messages. It used a polyalphabetic substitution cipher to create encrypted text from plain text.\n",
        "Our team of double-0 agents has retrieved one encrypted messages. Our job is to break the code! Or at least, examine the data and generate some statistics on it...\n",
        "\n",
        "\n",
        "\n",
        "##Additional details\n",
        "For this assignment, a simplified Enigma cipher is used. It uses a simple substitution scheme where each letter is replaced by a different letter at a specific, fixed, distance.\n",
        "\n",
        "The space character (' ') is encoded as character '@'."
      ]
    },
    {
      "cell_type": "code",
      "execution_count": 421,
      "metadata": {
        "ExecuteTime": {
          "end_time": "2023-03-24T23:11:51.052450Z",
          "start_time": "2023-03-24T23:11:50.569185Z"
        },
        "id": "BwWMYBmd4R_j",
        "tags": []
      },
      "outputs": [],
      "source": [
        "# Libraries - NO OTHER LIBRARY IS ALLOWED FOR THIS HOMEWORK\n",
        "import random\n",
        "import numpy as np\n",
        "import sys\n",
        "import matplotlib.pyplot as plt\n",
        "# DO NOT ADD MORE LIBRARIES"
      ]
    },
    {
      "cell_type": "code",
      "execution_count": 422,
      "metadata": {
        "ExecuteTime": {
          "end_time": "2023-03-24T23:01:53.310608Z",
          "start_time": "2023-03-24T23:01:53.303604Z"
        },
        "id": "MGpZLC974R_l",
        "tags": []
      },
      "outputs": [],
      "source": [
        "# Plain text message\n",
        "MESSAGE = \"Sunny with early morning fog high 34C low 15C.\"\n",
        "MESSAGE += \"Admiral Crook arriving to Calais at 1400.\"\n",
        "MESSAGE += \"Prepare a light lunch and a bottle of Chateau Mouton Rothschild 1945.\"\n",
        "MESSAGE += \"God save the King.\"\n",
        "# Alphabet\n",
        "# Use '@' for ' '\n",
        "ALPHABET = \"@.0123456789ABCDEFGHIJKLMNOPQRSTUVWXYZ\""
      ]
    },
    {
      "cell_type": "code",
      "execution_count": 423,
      "metadata": {
        "ExecuteTime": {
          "end_time": "2023-03-24T23:03:06.016694Z",
          "start_time": "2023-03-24T23:03:06.003700Z"
        },
        "id": "tI45Glti4R_l",
        "tags": []
      },
      "outputs": [],
      "source": [
        "def transpose_character(character, key):\n",
        "    ''' Return a character that is at a distance 'key'\n",
        "        from the supplied character'''\n",
        "    transposed = ''\n",
        "    # Replace space with '@'\n",
        "    if character == ' ':\n",
        "        character = '@'\n",
        "    # Find character in the alphabet\n",
        "    c_idx = ALPHABET.find(character)\n",
        "    # Identify the character that is at distance 'key'\n",
        "    c_key = key + c_idx\n",
        "    if (c_key >= len(ALPHABET)):\n",
        "        c_key = c_key - len(ALPHABET)\n",
        "\n",
        "    return ALPHABET[c_key]"
      ]
    },
    {
      "cell_type": "code",
      "execution_count": 424,
      "metadata": {
        "ExecuteTime": {
          "end_time": "2023-03-24T23:03:06.592853Z",
          "start_time": "2023-03-24T23:03:06.585556Z"
        },
        "id": "0YFyb1Vb4R_l",
        "tags": []
      },
      "outputs": [],
      "source": [
        "def encrypt_message(message, key):\n",
        "    '''Given a plain text message and a key, generate an encrypted message'''\n",
        "    ciphertext = \"\"\n",
        "    for character in message.upper():\n",
        "        ciphertext += transpose_character(character, key)\n",
        "    return ciphertext"
      ]
    },
    {
      "cell_type": "code",
      "execution_count": 425,
      "metadata": {
        "ExecuteTime": {
          "end_time": "2023-03-26T18:55:23.793326Z",
          "start_time": "2023-03-26T18:55:23.785231Z"
        },
        "id": "biyiiu7r4R_m",
        "tags": []
      },
      "outputs": [],
      "source": [
        "def decrypt_message(message, key):\n",
        "    ''' Given an encrypted text message and a key, generate a plain text message'''\n",
        "    tmp = \"\"\n",
        "    for character in message.upper():\n",
        "        tmp += transpose_character(character, key)\n",
        "\n",
        "    # Handle 'space'\n",
        "    plaintext = tmp.replace('@', ' ')\n",
        "    return plaintext"
      ]
    },
    {
      "cell_type": "code",
      "execution_count": 426,
      "metadata": {
        "ExecuteTime": {
          "end_time": "2023-03-24T23:03:07.166089Z",
          "start_time": "2023-03-24T23:03:07.160388Z"
        },
        "id": "DmNTOgIM4R_m",
        "tags": []
      },
      "outputs": [],
      "source": [
        "def display_plaintext(message):\n",
        "    print (message)"
      ]
    },
    {
      "cell_type": "code",
      "execution_count": 427,
      "metadata": {
        "ExecuteTime": {
          "end_time": "2023-03-24T23:04:03.165317Z",
          "start_time": "2023-03-24T23:04:03.151695Z"
        },
        "id": "zoUXHDd_4R_n",
        "tags": []
      },
      "outputs": [],
      "source": [
        "def display_ciphertext(ciphertext):\n",
        "    ''' Display encrypted messages formated in groups and columns'''\n",
        "    c_group = 4\n",
        "    c_cols = 8\n",
        "    c_idx = 0\n",
        "    g_idx = 0\n",
        "    for character in ciphertext:\n",
        "        c_idx += 1\n",
        "        sys.stdout.write(character)\n",
        "        if c_idx == c_group:\n",
        "            sys.stdout.write(\" \")\n",
        "            c_idx = 0\n",
        "            g_idx += 1\n",
        "        if g_idx == c_cols:\n",
        "            sys.stdout.write(\"\\n\")\n",
        "            g_idx = 0\n",
        "\n",
        "    sys.stdout.write(\"\\n\")"
      ]
    },
    {
      "cell_type": "code",
      "execution_count": 428,
      "metadata": {
        "ExecuteTime": {
          "end_time": "2023-03-26T19:06:57.875114Z",
          "start_time": "2023-03-26T19:06:57.868694Z"
        },
        "colab": {
          "base_uri": "https://localhost:8080/"
        },
        "id": "IQSwsdoA4R_7",
        "outputId": "1559c160-2be1-446d-8a88-07451b65b625",
        "tags": []
      },
      "outputs": [
        {
          "output_type": "stream",
          "name": "stdout",
          "text": [
            "Sunny with early morning fog high 34C low 15C.Admiral Crook arriving to Calais at 1400.Prepare a light lunch and a bottle of Chateau Mouton Rothschild 1945.God save the King.\n"
          ]
        }
      ],
      "source": [
        "plaintext = MESSAGE;\n",
        "ciphertext = encrypt_message(plaintext, 12);\n",
        "display_plaintext(plaintext)"
      ]
    },
    {
      "cell_type": "code",
      "execution_count": 429,
      "metadata": {
        "ExecuteTime": {
          "end_time": "2023-03-26T19:07:09.061308Z",
          "start_time": "2023-03-26T19:07:09.028038Z"
        },
        "colab": {
          "base_uri": "https://localhost:8080/"
        },
        "id": "dbXlWZPn4R_8",
        "outputId": "7591ba1e-ae2e-4402-a961-47d00c222675",
        "tags": []
      },
      "outputs": [
        {
          "output_type": "stream",
          "name": "stdout",
          "text": [
            "24ZZ 8A6U 3TAQ M1X8 AY@1 ZUZS AR@S ATUS \n",
            "TAFG OAX@ 6ADH OBMP YU1M XAO1 @@WA M11U \n",
            "5UZS A3@A OMXM U2AM 3ADG CCB. 1Q.M 1QAM \n",
            "AXUS T3AX 4ZOT AMZP AMAN @33X QA@R AOTM \n",
            "3QM4 AY@4 3@ZA 1@3T 2OTU XPAD LGHB S@PA \n",
            "2M5Q A3TQ AWUZ SB\n"
          ]
        }
      ],
      "source": [
        "display_ciphertext(ciphertext)"
      ]
    },
    {
      "cell_type": "code",
      "execution_count": 430,
      "metadata": {
        "ExecuteTime": {
          "end_time": "2023-03-26T18:56:07.601957Z",
          "start_time": "2023-03-26T18:56:07.592260Z"
        },
        "colab": {
          "base_uri": "https://localhost:8080/",
          "height": 35
        },
        "id": "uNEQJGgO4R_8",
        "outputId": "2a2048ab-e551-43d5-8fa4-5e49345604c3",
        "tags": []
      },
      "outputs": [
        {
          "output_type": "execute_result",
          "data": {
            "text/plain": [
              "'SUNNY WITH EARLY MORNING FOG HIGH 34C LOW 15C.ADMIRAL CROOK ARRIVING TO CALAIS AT 1400.PREPARE A LIGHT LUNCH AND A BOTTLE OF CHATEAU MOUTON ROTHSCHILD 1945.GOD SAVE THE KING.'"
            ],
            "application/vnd.google.colaboratory.intrinsic+json": {
              "type": "string"
            }
          },
          "metadata": {},
          "execution_count": 430
        }
      ],
      "source": [
        "decrypt_message(ciphertext, -12)"
      ]
    },
    {
      "cell_type": "markdown",
      "metadata": {
        "id": "cLQ6lBlg5uQh",
        "tags": []
      },
      "source": [
        "# Deliverables"
      ]
    },
    {
      "cell_type": "markdown",
      "source": [
        "# 1. Generate statistical measurements on the encrypted message"
      ],
      "metadata": {
        "id": "ohobLDXab79g"
      }
    },
    {
      "cell_type": "markdown",
      "source": [
        "## 1.1. Generate a list of character pairs\n",
        "For the provided ciphertext, define a function `get_character_pairs(ciphertext)` that generates a list of character pairs. For instance, given the ciphertext:\n",
        "```\n",
        "24ZZ 8A6U 3TAQ M1X8 ...\n",
        "```\n",
        "The list of pairs will look like:\n",
        "```\n",
        "['24', '4Z', 'ZZ', 'Z8', '8A', ...]\n",
        "```\n",
        "This will be used in sections 1.3 and 1.4 below, and can be used in section 2 as well."
      ],
      "metadata": {
        "id": "gwlPRmLgTjHO"
      }
    },
    {
      "cell_type": "code",
      "source": [
        "print(ciphertext)\n",
        "\n",
        "# Generate a list of character pairs\n",
        "def get_character_pairs(ciphertext):\n",
        "  pairs = [ciphertext[i:i+2] for i in range(0, len(ciphertext)-1, 1)]\n",
        "  return pairs\n",
        "\n",
        "# Print character pairs\n",
        "char_pairs = get_character_pairs(ciphertext)\n",
        "print(char_pairs)"
      ],
      "metadata": {
        "colab": {
          "base_uri": "https://localhost:8080/"
        },
        "id": "vqc7cvEsjhc4",
        "outputId": "bcb22e79-638d-49ad-89ca-337c401d8cfb"
      },
      "execution_count": 431,
      "outputs": [
        {
          "output_type": "stream",
          "name": "stdout",
          "text": [
            "24ZZ8A6U3TAQM1X8AY@1ZUZSAR@SATUSTAFGOAX@6ADHOBMPYU1MXAO1@@WAM11U5UZSA3@AOMXMU2AM3ADGCCB.1Q.M1QAMAXUST3AX4ZOTAMZPAMAN@33XQA@RAOTM3QM4AY@43@ZA1@3T2OTUXPADLGHBS@PA2M5QA3TQAWUZSB\n",
            "['24', '4Z', 'ZZ', 'Z8', '8A', 'A6', '6U', 'U3', '3T', 'TA', 'AQ', 'QM', 'M1', '1X', 'X8', '8A', 'AY', 'Y@', '@1', '1Z', 'ZU', 'UZ', 'ZS', 'SA', 'AR', 'R@', '@S', 'SA', 'AT', 'TU', 'US', 'ST', 'TA', 'AF', 'FG', 'GO', 'OA', 'AX', 'X@', '@6', '6A', 'AD', 'DH', 'HO', 'OB', 'BM', 'MP', 'PY', 'YU', 'U1', '1M', 'MX', 'XA', 'AO', 'O1', '1@', '@@', '@W', 'WA', 'AM', 'M1', '11', '1U', 'U5', '5U', 'UZ', 'ZS', 'SA', 'A3', '3@', '@A', 'AO', 'OM', 'MX', 'XM', 'MU', 'U2', '2A', 'AM', 'M3', '3A', 'AD', 'DG', 'GC', 'CC', 'CB', 'B.', '.1', '1Q', 'Q.', '.M', 'M1', '1Q', 'QA', 'AM', 'MA', 'AX', 'XU', 'US', 'ST', 'T3', '3A', 'AX', 'X4', '4Z', 'ZO', 'OT', 'TA', 'AM', 'MZ', 'ZP', 'PA', 'AM', 'MA', 'AN', 'N@', '@3', '33', '3X', 'XQ', 'QA', 'A@', '@R', 'RA', 'AO', 'OT', 'TM', 'M3', '3Q', 'QM', 'M4', '4A', 'AY', 'Y@', '@4', '43', '3@', '@Z', 'ZA', 'A1', '1@', '@3', '3T', 'T2', '2O', 'OT', 'TU', 'UX', 'XP', 'PA', 'AD', 'DL', 'LG', 'GH', 'HB', 'BS', 'S@', '@P', 'PA', 'A2', '2M', 'M5', '5Q', 'QA', 'A3', '3T', 'TQ', 'QA', 'AW', 'WU', 'UZ', 'ZS', 'SB']\n"
          ]
        }
      ]
    },
    {
      "cell_type": "markdown",
      "source": [
        "## 1.2. Based on what's known about the encryption algorithm, define a \"distance\" between two characters\n",
        "Create a function `enigma_distance(pair)` that takes an input a pair of characters, and returns the distance between them.\n",
        "Describe how the distance is calculated, and why it  makes sense to calculate it that way, based on what's known about the encryption algorithm.\n",
        "This distance should be used for all other deliverables in this homework."
      ],
      "metadata": {
        "id": "I-QftlPXVpXf"
      }
    },
    {
      "cell_type": "markdown",
      "source": [
        "For this simplified Enigma cipher, we can calculate the distance between two characters as the absolute difference in their positions (Manhattan distance) in the ALPHABET. For example, the distance between 'A' and 'D' would be 3 because 'D' is three positions ahead of 'A' in the ALPHABET."
      ],
      "metadata": {
        "id": "y2jC6LGh2G5q"
      }
    },
    {
      "cell_type": "code",
      "source": [
        "# Function that takes input a pair of characters\n",
        "def enigma_distance(pair):\n",
        "    char1, char2 = pair\n",
        "    index1 = ALPHABET.index(char1)\n",
        "    index2 = ALPHABET.index(char2)\n",
        "    return abs(index1 - index2)\n",
        "\n",
        "# print distance\n",
        "char_distance = enigma_distance(\"4Z\")\n",
        "print(char_distance)"
      ],
      "metadata": {
        "colab": {
          "base_uri": "https://localhost:8080/"
        },
        "id": "HTeChMd-xN3Y",
        "outputId": "abcc7040-0682-4752-94c2-508629d2ec11"
      },
      "execution_count": 432,
      "outputs": [
        {
          "output_type": "stream",
          "name": "stdout",
          "text": [
            "31\n"
          ]
        }
      ]
    },
    {
      "cell_type": "markdown",
      "metadata": {
        "tags": [],
        "id": "mYlspmJszKqJ"
      },
      "source": [
        "## 1.3. Calculate the average distance between two adjacent characters\n",
        "Using the list of characters pairs generated in 1.1 above, create a function `average_distance(ciphertext)` that calculates the \"average distance\" between character pairs in a ciphertext."
      ]
    },
    {
      "cell_type": "code",
      "source": [
        "def average_distance(ciphertext):\n",
        "    pairs = get_character_pairs(ciphertext)\n",
        "    total_distance = sum(enigma_distance(pair) for pair in pairs)\n",
        "    return total_distance / len(pairs)\n",
        "\n",
        "# Print Average distance\n",
        "print(ciphertext)\n",
        "avg_dist = average_distance(ciphertext)\n",
        "print(\"Average Distance:\", avg_dist)\n"
      ],
      "metadata": {
        "colab": {
          "base_uri": "https://localhost:8080/"
        },
        "id": "hXwG238D1fK5",
        "outputId": "7d42a63e-6a26-4cb4-d336-e450a80fbd64"
      },
      "execution_count": 433,
      "outputs": [
        {
          "output_type": "stream",
          "name": "stdout",
          "text": [
            "24ZZ8A6U3TAQM1X8AY@1ZUZSAR@SATUSTAFGOAX@6ADHOBMPYU1MXAO1@@WAM11U5UZSA3@AOMXMU2AM3ADGCCB.1Q.M1QAMAXUST3AX4ZOTAMZPAMAN@33XQA@RAOTM3QM4AY@43@ZA1@3T2OTUXPADLGHBS@PA2M5QA3TQAWUZSB\n",
            "Average Distance: 13.84393063583815\n"
          ]
        }
      ]
    },
    {
      "cell_type": "markdown",
      "metadata": {
        "tags": [],
        "id": "agcb2UCOzKqL"
      },
      "source": [
        "## 1.4. Calculate the min and max distance between two adjacent characters\n",
        "Using the list of character pairs generated in 1.1 above, create a function `min_max_distance(ciphertext)` that calculates the min and max distances between characters in any of the pairs from the list."
      ]
    },
    {
      "cell_type": "code",
      "source": [
        "def min_max_distance(ciphertext):\n",
        "    pairs = get_character_pairs(ciphertext)\n",
        "    distances = [enigma_distance(pair) for pair in pairs]\n",
        "    min_distance = min(distances)\n",
        "    max_distance = max(distances)\n",
        "    return min_distance, max_distance\n",
        "\n",
        "# Print min and max distance:\n",
        "min_dist, max_dist = min_max_distance(ciphertext)\n",
        "print(\"Min Distance:\", min_dist)\n",
        "print(\"Max Distance:\", max_dist)\n"
      ],
      "metadata": {
        "colab": {
          "base_uri": "https://localhost:8080/"
        },
        "id": "KquIh5Tj5Wu2",
        "outputId": "617e2ffe-9459-42da-95e5-730812688a1d"
      },
      "execution_count": 434,
      "outputs": [
        {
          "output_type": "stream",
          "name": "stdout",
          "text": [
            "Min Distance: 0\n",
            "Max Distance: 37\n"
          ]
        }
      ]
    },
    {
      "cell_type": "markdown",
      "metadata": {
        "tags": [],
        "id": "JKpt-mDYzKqM"
      },
      "source": [
        "# 2. Compare two encrypted messages"
      ]
    },
    {
      "cell_type": "markdown",
      "source": [
        "## 2.1 Generate two different encrypted messages using different encryption keys"
      ],
      "metadata": {
        "id": "3YrTYcZWcgKQ"
      }
    },
    {
      "cell_type": "code",
      "source": [
        "ciphertext1 = encrypt_message(plaintext, 12)\n",
        "ciphertext2 = encrypt_message(plaintext, 8)\n",
        "\n",
        "print(\"Ciphertext 1:\", ciphertext1)\n",
        "print(\"Ciphertext 2:\", ciphertext2)"
      ],
      "metadata": {
        "colab": {
          "base_uri": "https://localhost:8080/"
        },
        "id": "-gcG2wPID-sU",
        "outputId": "bef45cf0-a807-4d0b-dbb6-b5c384c9e64b"
      },
      "execution_count": 435,
      "outputs": [
        {
          "output_type": "stream",
          "name": "stdout",
          "text": [
            "Ciphertext 1: 24ZZ8A6U3TAQM1X8AY@1ZUZSAR@SATUSTAFGOAX@6ADHOBMPYU1MXAO1@@WAM11U5UZSA3@AOMXMU2AM3ADGCCB.1Q.M1QAMAXUST3AX4ZOTAMZPAMAN@33XQA@RAOTM3QM4AY@43@ZA1@3T2OTUXPADLGHBS@PA2M5QA3TQAWUZSB\n",
            "Ciphertext 2: @0VV462Q.P6MIZT46UWZVQVO6NWO6PQOP6BCK6TW269DK7ILUQZIT6KZWWS6IZZQ1QVO6.W6KITIQ@6I.69C887XZMXIZM6I6TQOP.6T0VKP6IVL6I6JW..TM6WN6KPI.MI06UW0.WV6ZW.P@KPQTL69HCD7OWL6@I1M6.PM6SQVO7\n"
          ]
        }
      ]
    },
    {
      "cell_type": "markdown",
      "metadata": {
        "tags": [],
        "id": "68aDWwWBzKqN"
      },
      "source": [
        "## 2.2. Compare both messages by calculating their similarity using the Cosine Similarity when applied to all the pairs of adjacent characters in the messages."
      ]
    },
    {
      "cell_type": "code",
      "source": [
        "# Comparing the above ciphertexts using cosine similarity\n",
        "\n",
        "# counting the character pairs generated\n",
        "def count_character_pairs(message):\n",
        "    pairs = get_character_pairs(message)\n",
        "    pair_counts = {}\n",
        "\n",
        "    for pair in pairs:\n",
        "        if pair in pair_counts:\n",
        "            pair_counts[pair] += 1\n",
        "        else:\n",
        "            pair_counts[pair] = 1\n",
        "\n",
        "    return pair_counts\n",
        "\n",
        "# cosine similarity function\n",
        "def cosine_similarity(message1, message2):\n",
        "    pair_counts1 = count_character_pairs(message1)\n",
        "    pair_counts2 = count_character_pairs(message2)\n",
        "\n",
        "    # Calculate the dot product of the two vectors\n",
        "    dot_product = 0\n",
        "    for pair in pair_counts1:\n",
        "        if pair in pair_counts2:\n",
        "            dot_product += pair_counts1[pair] * pair_counts2[pair]\n",
        "\n",
        "    # Calculate the magnitudes of the vectors\n",
        "    magnitude1 = sum(count ** 2 for count in pair_counts1.values())\n",
        "    magnitude2 = sum(count ** 2 for count in pair_counts2.values())\n",
        "\n",
        "    # Calculate the square root of the magnitudes using numpy\n",
        "    magnitude1_sqrt = np.sqrt(magnitude1)\n",
        "    magnitude2_sqrt = np.sqrt(magnitude2)\n",
        "\n",
        "    # Calculate the cosine similarity\n",
        "    similarity = dot_product / (magnitude1_sqrt * magnitude2_sqrt)\n",
        "    return similarity\n",
        "\n",
        "# Print the cosine similarity ciphertext1 and ciphertext2\n",
        "similarity = cosine_similarity(ciphertext1, ciphertext2)\n",
        "print(\"Cosine Similarity:\", similarity)"
      ],
      "metadata": {
        "colab": {
          "base_uri": "https://localhost:8080/"
        },
        "id": "elHvJm5AE9tx",
        "outputId": "2027c4ea-2499-471f-cf54-2a48d3e988f7"
      },
      "execution_count": 436,
      "outputs": [
        {
          "output_type": "stream",
          "name": "stdout",
          "text": [
            "Cosine Similarity: 0.04262295081967214\n"
          ]
        }
      ]
    },
    {
      "cell_type": "markdown",
      "metadata": {
        "tags": [],
        "id": "TZcGro51zKqO"
      },
      "source": [
        "## 2.3. Repeat the calculation using the following two sets of inputs:\n",
        "\n",
        "1. The plaintext message for both inputs. The cosine similarity should be \"1\" as it's comparing two identical inputs.\n",
        "2. The following two inputs: `'96SCAF8T'` and `'AAAAAAAA'`. The cosine similarity should be \"0\" as it's comparing two completely orthogonal inputs."
      ]
    },
    {
      "cell_type": "code",
      "source": [
        "# The plaintext message for both inputs\n",
        "\n",
        "similarity_plaintext = cosine_similarity(plaintext, plaintext)\n",
        "print(\"Cosine Similarity (Plaintext):\", similarity_plaintext)"
      ],
      "metadata": {
        "colab": {
          "base_uri": "https://localhost:8080/"
        },
        "id": "SAjSw4j4Kgel",
        "outputId": "13f8a4f1-4b32-4b7f-f9cf-7019f315e2cb"
      },
      "execution_count": 437,
      "outputs": [
        {
          "output_type": "stream",
          "name": "stdout",
          "text": [
            "Cosine Similarity (Plaintext): 1.0000000000000002\n"
          ]
        }
      ]
    },
    {
      "cell_type": "code",
      "source": [
        "# The following two inputs: '96SCAF8T' and 'AAAAAAAA'\n",
        "\n",
        "similarity_orthogonal = cosine_similarity('96SCAF8T', 'AAAAAAAA')\n",
        "print(\"Cosine Similarity (Orthogonal):\", similarity_orthogonal)"
      ],
      "metadata": {
        "colab": {
          "base_uri": "https://localhost:8080/"
        },
        "id": "yi1le6NVKp3p",
        "outputId": "5a835e34-b745-426d-f445-f00a538a0b80"
      },
      "execution_count": 438,
      "outputs": [
        {
          "output_type": "stream",
          "name": "stdout",
          "text": [
            "Cosine Similarity (Orthogonal): 0.0\n"
          ]
        }
      ]
    },
    {
      "cell_type": "markdown",
      "source": [
        "# 3. Visualize information related to the encrypted data."
      ],
      "metadata": {
        "id": "sOZPcy4JeCYN"
      }
    },
    {
      "cell_type": "markdown",
      "metadata": {
        "tags": [],
        "id": "jb-gDHmvzKqP"
      },
      "source": [
        "## 3.1. Generate ten different encrypted messages of the same or similar length.\n",
        "\n",
        "Updated the `generate_encrypted_messages()` function from above to support a variable number of arguments"
      ]
    },
    {
      "cell_type": "code",
      "source": [
        "# Function to generate encrypted messages\n",
        "def generate_encrypted_messages(message, num_messages):\n",
        "    encrypted_messages = []\n",
        "    for _ in range(num_messages):\n",
        "        key = random.randint(1, len(ALPHABET) - 1)  #Random key\n",
        "        encrypted_message = encrypt_message(message, key)\n",
        "        encrypted_messages.append(encrypted_message)\n",
        "    return encrypted_messages\n",
        "\n",
        "# Generate 10 different encrypted messages\n",
        "num_messages = 10\n",
        "encrypted_messages = generate_encrypted_messages(plaintext, num_messages)\n",
        "for i, message in enumerate(encrypted_messages):\n",
        "    print(f\"Message {i + 1}: {message}\")"
      ],
      "metadata": {
        "colab": {
          "base_uri": "https://localhost:8080/"
        },
        "id": "edeX4OdV2lHF",
        "outputId": "b3984784-44e3-4f90-aee0-dcf9fea2949e"
      },
      "execution_count": 439,
      "outputs": [
        {
          "output_type": "stream",
          "name": "stdout",
          "text": [
            "Message 1: FHAALNJ5G4N1ZE8LN9BEA5A3N2B3N4534NST.N8BJNQU.OZ095EZ8N.EBB7NZEE5I5A3NGBN.Z8Z5FNZGNQTPPOCE1CZE1NZN8534GN8HA.4NZA0NZN@BGG81NB2N.4ZG1ZHN9BHGBANEBG4F.4580NQYTUO3B0NFZI1NG41N75A3O\n",
            "Message 2: BD66HJF1C0JZVA4HJ57A616.J@7.J01.0JOPXJ47FJMQXKVY51AV4JXA773JVAA1E16.JC7JXV4V1BJVCJMPLLK8AZ8VAZJVJ41.0CJ4D6X0JV6YJVJW7CC4ZJ7@JX0VCZVDJ57DC76JA7C0BX014YJMUPQK.7YJBVEZJC0ZJ316.K\n",
            "Message 3: NPIITVRDOCV95MGTVHJMIDIBVAJBVCDBCV@.7VGJRVY07W58HDM5GV7MJJFV5MMDQDIBVOJV75G5DNV5OVY.XXWKM9K5M9V5VGDBCOVGPI7CV5I8V5V6JOOG9VJAV7C5O95PVHJPOJIVMJOCN7CDG8VY4.0WBJ8VN5Q9VOC9VFDIBW\n",
            "Message 4: EG99KMI4F3M0YD7KM8AD9492M1A2M3423MRS@M7AIMPT@NY.84DY7M@DAA6MYDD4H492MFAM@Y7Y4EMYFMPSOONBD0BYD0MYM7423FM7G9@3MY9.MYMZAFF70MA1M@3YF0YGM8AGFA9MDAF3E@347.MPXSTN2A.MEYH0MF30M6492N\n",
            "Message 5: HJCCNPL7I6P3.GANPBDGC7C5P4D5P6756PUV1PADLPSW1Q.2B7G.AP1GDD9P.GG7K7C5PIDP1.A.7HP.IPSVRRQEG3E.G3P.PA756IPAJC16P.C2P.P0DIIA3PD4P16.I3.JPBDJIDCPGDI6H167A2PS@VWQ5D2PH.K3PI63P97C5Q\n",
            "Message 6: XZSS13.NYM3JFWQ13RTWSNSL3KTL3MNLM389H3QT.36AH4FIRNWFQ3HWTTP3FWWN@NSL3YT3HFQFNX3FY369554UWJUFWJ3F3QNLMY3QZSHM3FSI3F3GTYYQJ3TK3HMFYJFZ3RTZYTS3WTYMXHMNQI36E9A4LTI3XF@J3YMJ3PNSL4\n",
            "Message 7: LNGGRTPBMAT73KERTFHKGBG9T8H9TAB9ATYZ5TEHPTW@5U36FBK3ET5KHHDT3KKBOBG9TMHT53E3BLT3MTWZVVUIK7I3K7T3TEB9AMTENG5AT3G6T3T4HMME7TH8T5A3M73NTFHNMHGTKHMAL5ABE6TW2Z@U9H6TL3O7TMA7TDBG9U\n",
            "Message 8: IKDDOQM8J7Q40HBOQCEHD8D6Q5E6Q7867QVW2QBEMQTX2R03C8H0BQ2HEEAQ0HH8L8D6QJEQ20B08IQ0JQTWSSRFH4F0H4Q0QB867JQBKD27Q0D3Q0Q1EJJB4QE5Q270J40KQCEKJEDQHEJ7I278B3QT.WXR6E3QI0L4QJ74QA8D6R\n",
            "Message 9: 02XX684S1R8OK.V68WY.XSXQ8PYQ8RSQR8DEM8VY48BFM9KNWS.KV8M.YYU8K..S3SXQ81Y8MKVKS08K18BEAA9Z.OZK.O8K8VSQR18V2XMR8KXN8K8LY11VO8YP8MRK1OK28WY21YX8.Y1R0MRSVN8BJEF9QYN80K3O81RO8USXQ9\n",
            "Message 10: 35@@9B7V4UBRN2Y9BZ.2@V@TBS.TBUVTUBGHPBY.7BEIPCNQZV2NYBP2..XBN22V6V@TB4.BPNYNV3BN4BEHDDC02R0N2RBNBYVTU4BY5@PUBN@QBNBO.44YRB.SBPUN4RN5BZ.54.@B2.4U3PUVYQBEMHICT.QB3N6RB4URBXV@TC\n"
          ]
        }
      ]
    },
    {
      "cell_type": "markdown",
      "metadata": {
        "tags": [],
        "id": "TKzpz3EWzKqP"
      },
      "source": [
        "## 3.2. Using one of the encrypted messages, generate a histogram of the occurrence of each character in the alphabet"
      ]
    },
    {
      "cell_type": "code",
      "source": [
        "#Function to generate histogram\n",
        "def generate_histogram(ciphertext):\n",
        "    character_count = {char: 0 for char in ALPHABET}\n",
        "    for char in ciphertext:\n",
        "        character_count[char] += 1\n",
        "\n",
        "    # Plot the histogram\n",
        "    bar_colors = ['gold', 'lightcoral', 'royalblue', 'seagreen', 'indigo', 'red']\n",
        "    bar_width = 0.5\n",
        "    plt.bar(character_count.keys(), character_count.values(), color=bar_colors, width=bar_width)\n",
        "    plt.xlabel('Character')\n",
        "    plt.ylabel('Frequency')\n",
        "    plt.title('Character Frequency Histogram')\n",
        "    plt.show()\n",
        "\n",
        "#Can use any 1 of the 10 encrypted messages here i am using 1st encrypted message\n",
        "encrypted_message_occurence = encrypted_messages[0]\n",
        "generate_histogram(encrypted_message_occurence)"
      ],
      "metadata": {
        "colab": {
          "base_uri": "https://localhost:8080/",
          "height": 472
        },
        "id": "Xw4aPt_d2mK0",
        "outputId": "2e2aaff0-4f50-43ea-e39b-63ffb2b68970"
      },
      "execution_count": 440,
      "outputs": [
        {
          "output_type": "display_data",
          "data": {
            "text/plain": [
              "<Figure size 640x480 with 1 Axes>"
            ],
            "image/png": "[encoded data removed]"
          },
          "metadata": {}
        }
      ]
    },
    {
      "cell_type": "markdown",
      "metadata": {
        "tags": [],
        "id": "FUeOFKP2zKqR"
      },
      "source": [
        "## 3.3. Using all ten encrypted messages as data sample, generate a box plot of the frequency of the five vowels of the alphabet"
      ]
    },
    {
      "cell_type": "code",
      "source": [
        "def generate_vowel_box_plot(encrypted_messages):\n",
        "    vowel_freq = {vowel: [] for vowel in \"AEIOU\"}\n",
        "\n",
        "    for ciphertext in encrypted_messages:\n",
        "        vowel_count = {vowel: 0 for vowel in \"AEIOU\"}\n",
        "        for char in ciphertext:\n",
        "            if char in \"AEIOU\":\n",
        "                vowel_count[char] += 1\n",
        "\n",
        "        for vowel in \"AEIOU\":\n",
        "            vowel_freq[vowel].append(vowel_count[vowel])\n",
        "\n",
        "    print(\"The frequency of 'A' across 10 messages is:\", vowel_freq['A'])\n",
        "    print(\"The frequency of 'E' across 10 messages is:\", vowel_freq['E'])\n",
        "    print(\"The frequency of 'I' across 10 messages is:\", vowel_freq['I'])\n",
        "    print(\"The frequency of 'O' across 10 messages is:\", vowel_freq['O'])\n",
        "    print(\"The frequency of 'U' across 10 messages is:\", vowel_freq['U'])\n",
        "\n",
        "    # Plot the box plot\n",
        "    plt.boxplot([vowel_freq['A'], vowel_freq['E'], vowel_freq['I'], vowel_freq['O'], vowel_freq['U']], labels=['A', 'E', 'I', 'O', 'U'])\n",
        "    plt.xlabel('Vowels')\n",
        "    plt.ylabel('Frequency')\n",
        "    plt.title('Vowel Frequency Box Plot Across 10 Messages')\n",
        "    plt.show()\n",
        "\n",
        "# Example usage using all 10 encrypted messages\n",
        "generate_vowel_box_plot(encrypted_messages)\n"
      ],
      "metadata": {
        "colab": {
          "base_uri": "https://localhost:8080/",
          "height": 559
        },
        "id": "oSecN_Rf2mzj",
        "outputId": "52279665-8baf-4174-8e53-ed37432bd9ef"
      },
      "execution_count": 441,
      "outputs": [
        {
          "output_type": "stream",
          "name": "stdout",
          "text": [
            "The frequency of 'A' across 10 messages is: [9, 9, 2, 12, 8, 2, 9, 2, 2, 0]\n",
            "The frequency of 'E' across 10 messages is: [9, 2, 0, 4, 2, 1, 8, 12, 3, 3]\n",
            "The frequency of 'I' across 10 messages is: [2, 0, 9, 2, 10, 4, 2, 4, 0, 2]\n",
            "The frequency of 'O' across 10 messages is: [4, 1, 10, 2, 0, 0, 2, 2, 7, 1]\n",
            "The frequency of 'U' across 10 messages is: [2, 1, 0, 0, 1, 2, 4, 0, 2, 9]\n"
          ]
        },
        {
          "output_type": "display_data",
          "data": {
            "text/plain": [
              "<Figure size 640x480 with 1 Axes>"
            ],
            "image/png": "[encoded data removed]"
          },
          "metadata": {}
        }
      ]
    },
    {
      "cell_type": "markdown",
      "metadata": {
        "id": "vjqKBviZzKqS"
      },
      "source": [
        "## 4. Would any other measurement of distance or similarity be useful for extracting information from the encrypted message? Why?"
      ]
    },
    {
      "cell_type": "markdown",
      "source": [
        "In the context of the Enigma encryption problem, Manhattan distance and Cosine similarity are reasonable measures for character distance and similarity. However, other measurements of distance or similarity that can be useful for extracting information from the encrypted message include:\n",
        "\n",
        "**Jaccard Similarity:** This can be used to measure the similarity between sets of characters. For example, we could create sets of characters for each encrypted message and calculate the Jaccard similarity to see which messages share common characters.\n",
        "\n",
        "**Levenshtein Distance:** This can be used to measure the edit distance between two strings, which could be useful for assessing how different two encrypted messages are.\n",
        "\n",
        "**Hamming Distance:**  This can be used to measure the number of positions at which two strings of equal length differ. It could be useful for comparing ciphertexts to identify potential errors in decryption or to determine the similarity between two messages with the same length.\n",
        "\n",
        "The choice of measurement depends on the specific analysis and goals for extracting information from the encrypted message. Each measurement has its strengths and weaknesses, and the most appropriate one would depend on the nature of the data and the desired insights.\n",
        "\n",
        "\n",
        "\n",
        "\n",
        "\n"
      ],
      "metadata": {
        "id": "XWBjP1r12nmy"
      }
    }
  ],
  "metadata": {
    "colab": {
      "provenance": []
    },
    "kernelspec": {
      "display_name": "Python 3 (ipykernel)",
      "language": "python",
      "name": "python3"
    },
    "language_info": {
      "codemirror_mode": {
        "name": "ipython",
        "version": 3
      },
      "file_extension": ".py",
      "mimetype": "text/x-python",
      "name": "python",
      "nbconvert_exporter": "python",
      "pygments_lexer": "ipython3",
      "version": "3.10.10"
    }
  },
  "nbformat": 4,
  "nbformat_minor": 0
}